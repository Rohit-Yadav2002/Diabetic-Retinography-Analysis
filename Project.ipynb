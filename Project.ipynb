{
 "cells": [
  {
   "cell_type": "code",
   "execution_count": 19,
   "id": "65c74e45",
   "metadata": {},
   "outputs": [],
   "source": [
    "import numpy as np \n",
    "import pandas as pd \n",
    "import os\n",
    "import cv2\n",
    "import matplotlib\n",
    "from PIL import ImageFile\n",
    "ImageFile.LOAD_TRUNCATED_IMAGES = True\n",
    "from keras.models import Sequential\n",
    "from keras.layers import Dense, Conv2D, MaxPooling2D, Dropout, Flatten\n",
    "from tensorflow.keras.utils import array_to_img, img_to_array, load_img\n",
    "from keras.preprocessing.image import ImageDataGenerator\n",
    "from keras.optimizers import Adam\n",
    "from sklearn.model_selection import train_test_split\n",
    "from keras.utils import to_categorical\n",
    "from datetime import datetime\n",
    "from matplotlib import pyplot as plt"
   ]
  },
  {
   "cell_type": "code",
   "execution_count": 20,
   "id": "374faaff",
   "metadata": {},
   "outputs": [],
   "source": [
    "\n",
    "NUM_CLASSES = 5\n",
    "# we need images of same size so we convert them into the size\n",
    "WIDTH = 128\n",
    "HEIGHT = 128\n",
    "DEPTH = 3\n",
    "inputShape = (HEIGHT, WIDTH, DEPTH)\n",
    "# initialize number of epochs to train for, initial learning rate and batch size\n",
    "EPOCHS = 15\n",
    "INIT_LR = 1e-3\n",
    "BS = 32\n",
    "#global variables\n",
    "ImageNameDataHash = {}  #dictionary stores the name as key and the actual image data as pair\n",
    "uniquePatientIDList = []"
   ]
  },
  {
   "cell_type": "code",
   "execution_count": 21,
   "id": "0ce4c453",
   "metadata": {},
   "outputs": [
    {
     "name": "stdout",
     "output_type": "stream",
     "text": [
      "Loading images at...2022-11-26 10:23:19.763096\n",
      "Number of files in train is 404\n",
      "Loaded 404 images at...2022-11-26 10:24:09.314577\n"
     ]
    }
   ],
   "source": [
    "\n",
    "#reading the train data\n",
    "def readTrainData(trainDir):\n",
    "    global ImageNameDataHash\n",
    "    # loop over the input images\n",
    "    images = os.listdir(trainDir)\n",
    "    \n",
    "    print(\"Number of files in \" + trainDir + \" is \" + str(len(images)))\n",
    "    \n",
    "    for imageFileName in images:\n",
    "        if (imageFileName == \"trainLabels.csv\"):\n",
    "            continue\n",
    "        # load the image, pre-process it, and store it in the data list\n",
    "           \n",
    "        img = load_img(imageFileName)\n",
    "        arr = img_to_array(img)  \n",
    "        dim1 = arr.shape[0]\n",
    "        dim2 = arr.shape[1]\n",
    "        dim3 = arr.shape[2]\n",
    "       \n",
    "        #checking if the images are atleast width and height\n",
    "        if (dim1 < HEIGHT or dim2 < WIDTH or dim3 < DEPTH):\n",
    "            print(\"Error image dimensions are less than expected \"+str(arr.shape))\n",
    "        \n",
    "        arr = cv2.resize(arr, (HEIGHT,WIDTH)) #Numpy array with shape (HEIGHT, WIDTH,3)\n",
    "      \n",
    "        dim1 = arr.shape[0]\n",
    "        dim2 = arr.shape[1]\n",
    "        dim3 = arr.shape[2]\n",
    "            \n",
    "        # scale the raw pixel intensities to the range [0, 1] - TBD TEST\n",
    "        arr = np.array(arr, dtype=\"float\") / 255.0\n",
    "        imageFileName = imageFileName.replace('.jpeg','')\n",
    "        ImageNameDataHash[str(imageFileName)] = np.array(arr) \n",
    "   \n",
    "    return\n",
    "\n",
    "print(\"Loading images at...\"+ str(datetime.now()))\n",
    "readTrainData(\"train\")\n",
    "print(\"Loaded \" + str(len(ImageNameDataHash)) + \" images at...\"+ str(datetime.now()))\n"
   ]
  },
  {
   "cell_type": "code",
   "execution_count": 22,
   "id": "990ed64c",
   "metadata": {},
   "outputs": [],
   "source": [
    "#reading the csv file\n",
    "def readTrainCsv():\n",
    "    raw_df = pd.read_csv('trainLabels.csv', sep=',')\n",
    "\n",
    "    raw_df[\"PatientID\"] = ''\n",
    "    \n",
    "    ImageLevelHash = {}\n",
    "    patientIDList = []\n",
    "    \n",
    "    #removing the left and right to make a patientID\n",
    "    for index, row in raw_df.iterrows():\n",
    "        # 0 is image, 1 is level, 2 is PatientID\n",
    "        key = row[0] + ''\n",
    "        patientID = row[0] + ''\n",
    "        patientID = patientID.replace('_right','')\n",
    "        patientID = patientID.replace('_left','')\n",
    "    \n",
    "        raw_df.at[index, 'PatientID'] = patientID\n",
    "        patientIDList.append(patientID)\n",
    "        ImageLevelHash[key] = str(row[1]) # level\n",
    "                \n",
    "    global uniquePatientIDList\n",
    "    uniquePatientIDList = sorted(set(patientIDList))\n",
    "\n",
    "    return raw_df\n"
   ]
  },
  {
   "cell_type": "code",
   "execution_count": 23,
   "id": "d0291469",
   "metadata": {},
   "outputs": [
    {
     "name": "stdout",
     "output_type": "stream",
     "text": [
      "Reading trainLabels.csv...\n"
     ]
    }
   ],
   "source": [
    "print(\"Reading trainLabels.csv...\")\n",
    "df = readTrainCsv()"
   ]
  },
  {
   "cell_type": "code",
   "execution_count": 24,
   "id": "cd80656f",
   "metadata": {},
   "outputs": [
    {
     "name": "stdout",
     "output_type": "stream",
     "text": [
      "404\n"
     ]
    }
   ],
   "source": [
    "#converging the csv and actual data\n",
    "# df has 3 columns ['image', 'level', 'PatientID']\n",
    "keepImages =  list(ImageNameDataHash.keys())\n",
    "df = df[df['image'].isin(keepImages)]\n",
    "print(len(df)) # 2000"
   ]
  },
  {
   "cell_type": "code",
   "execution_count": 25,
   "id": "2a97c9aa",
   "metadata": {},
   "outputs": [],
   "source": [
    "#convert hash to dataframe\n",
    "imageNameArr = []\n",
    "dataArr = []\n",
    "for index, row in df.iterrows():\n",
    "    key = str(row[0])\n",
    "    if key in ImageNameDataHash:\n",
    "        imageNameArr.append(key)\n",
    "        dataArr.append(np.array(ImageNameDataHash[key])) # np.array\n"
   ]
  },
  {
   "cell_type": "code",
   "execution_count": 26,
   "id": "fd664ee0",
   "metadata": {},
   "outputs": [],
   "source": [
    "df2 = pd.DataFrame({'image': imageNameArr, 'data': dataArr})        \n",
    "df = pd.merge(df2, df, left_on='image', right_on='image', how='outer')"
   ]
  },
  {
   "cell_type": "code",
   "execution_count": 27,
   "id": "da2f3acd",
   "metadata": {},
   "outputs": [
    {
     "name": "stderr",
     "output_type": "stream",
     "text": [
      "C:\\Users\\HP\\AppData\\Local\\Temp/ipykernel_25084/2511617552.py:4: UserWarning: Matplotlib is currently using agg, which is a non-GUI backend, so cannot show the figure.\n",
      "  plt.show()\n"
     ]
    },
    {
     "data": {
      "image/png": "[encoded data removed]",
      "text/plain": [
       "<Figure size 432x288 with 1 Axes>"
      ]
     },
     "metadata": {},
     "output_type": "display_data"
    }
   ],
   "source": [
    "#seeing a sample\n",
    "sample0 = df.loc[df.index[0], 'data']\n",
    "plt.imshow(sample0, interpolation='nearest')\n",
    "plt.show()"
   ]
  },
  {
   "cell_type": "code",
   "execution_count": 28,
   "id": "7e787034",
   "metadata": {},
   "outputs": [],
   "source": [
    "# partition the data into training and testing splits using 75% training and 25% for validation\n",
    "unique_ids = df.PatientID.unique()\n",
    "train_ids, valid_ids = train_test_split(unique_ids, test_size = 0.25, random_state = 10) #stratify = rr_df['level'])\n",
    "trainid_list = train_ids.tolist()"
   ]
  },
  {
   "cell_type": "code",
   "execution_count": 29,
   "id": "a9949f19",
   "metadata": {},
   "outputs": [],
   "source": [
    "traindf = df[df.PatientID.isin(trainid_list)]\n",
    "valSet = df[~df.PatientID.isin(trainid_list)]\n",
    "\n",
    "traindf = traindf.reset_index(drop=True)\n",
    "valSet = valSet.reset_index(drop=True)\n",
    "\n",
    "trainX = traindf['data']\n",
    "trainY = traindf['level']\n",
    "\n",
    "valX = valSet['data']\n",
    "valY = valSet['level']"
   ]
  },
  {
   "cell_type": "code",
   "execution_count": 30,
   "id": "faed57cd",
   "metadata": {},
   "outputs": [],
   "source": [
    "trainY =  to_categorical(trainY, num_classes=NUM_CLASSES)\n",
    "valY =  to_categorical(valY, num_classes=NUM_CLASSES)\n",
    "\n",
    "#reshaping trainX and valX\n",
    "Xtrain = np.zeros([trainX.shape[0],HEIGHT, WIDTH, DEPTH])\n",
    "for i in range(trainX.shape[0]): # 0 to traindf Size -1\n",
    "    Xtrain[i] = trainX[i]\n",
    "    \n",
    "Xval = np.zeros([valX.shape[0],HEIGHT, WIDTH, DEPTH])\n",
    "for i in range(valX.shape[0]): # 0 to traindf Size -1\n",
    "    Xval[i] = valX[i]"
   ]
  },
  {
   "cell_type": "code",
   "execution_count": 31,
   "id": "cc09f7ed",
   "metadata": {},
   "outputs": [
    {
     "name": "stdout",
     "output_type": "stream",
     "text": [
      "Generating images...\n"
     ]
    }
   ],
   "source": [
    "#construct the image generator for data augmentation\n",
    "print(\"Generating images...\")\n",
    "aug = ImageDataGenerator(rotation_range=30, width_shift_range=0.1, \\\n",
    "    height_shift_range=0.1, shear_range=0.2, zoom_range=0.2,\\\n",
    "    horizontal_flip=True, fill_mode=\"nearest\")"
   ]
  },
  {
   "cell_type": "code",
   "execution_count": 32,
   "id": "143d4679",
   "metadata": {},
   "outputs": [],
   "source": [
    "#create the CNN model    \n",
    "def createModel():\n",
    "    model = Sequential()\n",
    "    # first set of CONV => RELU => MAX POOL layers\n",
    "    model.add(Conv2D(32, (3, 3), padding='same', activation='relu', input_shape=inputShape))\n",
    "    model.add(MaxPooling2D(pool_size=(2, 2)))\n",
    "    model.add(Dropout(0.25))\n",
    "    \n",
    "    model.add(Conv2D(64, (3, 3), padding='same', activation='relu'))\n",
    "    model.add(MaxPooling2D(pool_size=(2, 2)))\n",
    "    model.add(Dropout(0.25))\n",
    "    \n",
    "    model.add(Conv2D(64, (3, 3), padding='same', activation='relu'))\n",
    "    model.add(MaxPooling2D(pool_size=(2, 2)))\n",
    "    model.add(Dropout(0.25))\n",
    "    \n",
    "    model.add(Flatten())\n",
    "    model.add(Dense(512, activation='relu'))\n",
    "    model.add(Dropout(0.5))\n",
    "    model.add(Dense(NUM_CLASSES, activation='softmax'))\n",
    "    # returns our fully constructed deep learning + Keras image classifier \n",
    "    opt = Adam(lr=INIT_LR, decay=INIT_LR / EPOCHS)\n",
    "    # use binary_crossentropy if there are two classes\n",
    "    model.compile(loss=\"categorical_crossentropy\", optimizer=opt, metrics=[\"accuracy\"])\n",
    "    return model"
   ]
  },
  {
   "cell_type": "code",
   "execution_count": 33,
   "id": "14a4bae6",
   "metadata": {},
   "outputs": [
    {
     "name": "stdout",
     "output_type": "stream",
     "text": [
      "Model: \"sequential_1\"\n",
      "_________________________________________________________________\n",
      " Layer (type)                Output Shape              Param #   \n",
      "=================================================================\n",
      " conv2d_6 (Conv2D)           (None, 128, 128, 32)      896       \n",
      "                                                                 \n",
      " max_pooling2d_3 (MaxPooling  (None, 64, 64, 32)       0         \n",
      " 2D)                                                             \n",
      "                                                                 \n",
      " dropout_4 (Dropout)         (None, 64, 64, 32)        0         \n",
      "                                                                 \n",
      " conv2d_7 (Conv2D)           (None, 64, 64, 64)        18496     \n",
      "                                                                 \n",
      " max_pooling2d_4 (MaxPooling  (None, 32, 32, 64)       0         \n",
      " 2D)                                                             \n",
      "                                                                 \n",
      " dropout_5 (Dropout)         (None, 32, 32, 64)        0         \n",
      "                                                                 \n",
      " conv2d_8 (Conv2D)           (None, 32, 32, 64)        36928     \n",
      "                                                                 \n",
      " max_pooling2d_5 (MaxPooling  (None, 16, 16, 64)       0         \n",
      " 2D)                                                             \n",
      "                                                                 \n",
      " dropout_6 (Dropout)         (None, 16, 16, 64)        0         \n",
      "                                                                 \n",
      " flatten_1 (Flatten)         (None, 16384)             0         \n",
      "                                                                 \n",
      " dense_2 (Dense)             (None, 512)               8389120   \n",
      "                                                                 \n",
      " dropout_7 (Dropout)         (None, 512)               0         \n",
      "                                                                 \n",
      " dense_3 (Dense)             (None, 5)                 2565      \n",
      "                                                                 \n",
      "=================================================================\n",
      "Total params: 8,448,005\n",
      "Trainable params: 8,448,005\n",
      "Non-trainable params: 0\n",
      "_________________________________________________________________\n"
     ]
    },
    {
     "name": "stderr",
     "output_type": "stream",
     "text": [
      "C:\\Users\\HP\\anaconda3\\lib\\site-packages\\keras\\optimizers\\optimizer_v2\\adam.py:117: UserWarning: The `lr` argument is deprecated, use `learning_rate` instead.\n",
      "  super().__init__(name, **kwargs)\n"
     ]
    }
   ],
   "source": [
    "# initialize the model\n",
    "model = createModel()\n",
    "model.summary()\n"
   ]
  },
  {
   "cell_type": "code",
   "execution_count": 34,
   "id": "2333addb",
   "metadata": {},
   "outputs": [
    {
     "name": "stdout",
     "output_type": "stream",
     "text": [
      "Epoch 1/15\n"
     ]
    },
    {
     "name": "stderr",
     "output_type": "stream",
     "text": [
      "C:\\Users\\HP\\AppData\\Local\\Temp/ipykernel_25084/3047238463.py:2: UserWarning: `Model.fit_generator` is deprecated and will be removed in a future version. Please use `Model.fit`, which supports generators.\n",
      "  H = model.fit_generator(aug.flow(Xtrain, trainY, batch_size=BS), \\\n"
     ]
    },
    {
     "name": "stdout",
     "output_type": "stream",
     "text": [
      "9/9 [==============================] - 3s 292ms/step - loss: 1.1105 - accuracy: 0.6333 - val_loss: 1.1719 - val_accuracy: 0.7451\n",
      "Epoch 2/15\n",
      "9/9 [==============================] - 3s 294ms/step - loss: 0.9137 - accuracy: 0.7326 - val_loss: 1.0993 - val_accuracy: 0.7451\n",
      "Epoch 3/15\n",
      "9/9 [==============================] - 3s 280ms/step - loss: 0.8607 - accuracy: 0.7519 - val_loss: 0.9132 - val_accuracy: 0.7451\n",
      "Epoch 4/15\n",
      "9/9 [==============================] - 3s 280ms/step - loss: 0.9586 - accuracy: 0.7222 - val_loss: 1.1818 - val_accuracy: 0.7451\n",
      "Epoch 5/15\n",
      "9/9 [==============================] - 3s 289ms/step - loss: 0.9542 - accuracy: 0.7111 - val_loss: 0.9387 - val_accuracy: 0.7451\n",
      "Epoch 6/15\n",
      "9/9 [==============================] - 3s 333ms/step - loss: 0.9210 - accuracy: 0.7185 - val_loss: 0.9771 - val_accuracy: 0.7451\n",
      "Epoch 7/15\n",
      "9/9 [==============================] - 3s 285ms/step - loss: 0.9249 - accuracy: 0.7111 - val_loss: 0.9528 - val_accuracy: 0.7451\n",
      "Epoch 8/15\n",
      "9/9 [==============================] - 3s 286ms/step - loss: 0.8587 - accuracy: 0.7444 - val_loss: 0.9397 - val_accuracy: 0.7451\n",
      "Epoch 9/15\n",
      "9/9 [==============================] - 4s 431ms/step - loss: 0.9052 - accuracy: 0.7148 - val_loss: 0.9531 - val_accuracy: 0.7451\n",
      "Epoch 10/15\n",
      "9/9 [==============================] - 3s 323ms/step - loss: 0.8856 - accuracy: 0.7259 - val_loss: 0.9084 - val_accuracy: 0.7451\n",
      "Epoch 11/15\n",
      "9/9 [==============================] - 4s 354ms/step - loss: 0.8806 - accuracy: 0.7222 - val_loss: 0.9699 - val_accuracy: 0.7451\n",
      "Epoch 12/15\n",
      "9/9 [==============================] - 3s 287ms/step - loss: 0.8681 - accuracy: 0.7259 - val_loss: 0.9168 - val_accuracy: 0.7451\n",
      "Epoch 13/15\n",
      "9/9 [==============================] - 3s 365ms/step - loss: 0.8912 - accuracy: 0.7185 - val_loss: 1.0121 - val_accuracy: 0.7451\n",
      "Epoch 14/15\n",
      "9/9 [==============================] - 4s 341ms/step - loss: 0.8554 - accuracy: 0.7296 - val_loss: 0.9060 - val_accuracy: 0.7451\n",
      "Epoch 15/15\n",
      "9/9 [==============================] - 3s 280ms/step - loss: 0.9162 - accuracy: 0.7111 - val_loss: 0.9465 - val_accuracy: 0.7451\n",
      "Testing - :\n",
      "\n",
      "4/4 [==============================] - 0s 74ms/step - loss: 0.9688 - accuracy: 0.7451\n"
     ]
    }
   ],
   "source": [
    "# train the network\n",
    "H = model.fit_generator(aug.flow(Xtrain, trainY, batch_size=BS), \\\n",
    "    validation_data=(Xval, valY), \\\n",
    "    validation_steps = len(Xval) // BS,steps_per_epoch=len(trainX) // BS, \\\n",
    "    epochs=EPOCHS, verbose=1)\n",
    "print(\"Testing - :\\n\")\n",
    "T = model.evaluate(aug.flow(Xval, valY, batch_size=BS))"
   ]
  },
  {
   "cell_type": "code",
   "execution_count": 35,
   "id": "13296f40",
   "metadata": {},
   "outputs": [
    {
     "name": "stdout",
     "output_type": "stream",
     "text": [
      "Generating plots...\n"
     ]
    },
    {
     "data": {
      "image/png": "[encoded data removed]",
      "text/plain": [
       "<Figure size 432x288 with 1 Axes>"
      ]
     },
     "metadata": {},
     "output_type": "display_data"
    }
   ],
   "source": [
    "# plot the training loss and accuracy\n",
    "print(\"Generating plots...\")\n",
    "matplotlib.use(\"Agg\")\n",
    "matplotlib.pyplot.style.use(\"ggplot\")\n",
    "matplotlib.pyplot.figure()\n",
    "N = EPOCHS\n",
    "matplotlib.pyplot.plot(np.arange(0, N), H.history[\"loss\"], label=\"train_loss\")\n",
    "matplotlib.pyplot.plot(np.arange(0, N), H.history[\"val_loss\"], label=\"val_loss\")\n",
    "matplotlib.pyplot.plot(np.arange(0, N), H.history[\"accuracy\"], label=\"train_acc\")\n",
    "matplotlib.pyplot.plot(np.arange(0, N), H.history[\"val_accuracy\"], label=\"val_acc\")\n",
    "matplotlib.pyplot.title(\"Training Loss and Accuracy on diabetic retinopathy detection\")\n",
    "matplotlib.pyplot.xlabel(\"Epoch #\")\n",
    "matplotlib.pyplot.ylabel(\"Loss/Accuracy\")\n",
    "matplotlib.pyplot.legend(loc=\"lower left\")\n",
    "matplotlib.pyplot.savefig(\"plot.png\")    \n"
   ]
  },
  {
   "cell_type": "code",
   "execution_count": null,
   "id": "f57f15fd",
   "metadata": {},
   "outputs": [],
   "source": []
  }
 ],
 "metadata": {
  "kernelspec": {
   "display_name": "Python 3 (ipykernel)",
   "language": "python",
   "name": "python3"
  },
  "language_info": {
   "codemirror_mode": {
    "name": "ipython",
    "version": 3
   },
   "file_extension": ".py",
   "mimetype": "text/x-python",
   "name": "python",
   "nbconvert_exporter": "python",
   "pygments_lexer": "ipython3",
   "version": "3.9.7"
  }
 },
 "nbformat": 4,
 "nbformat_minor": 5
}
